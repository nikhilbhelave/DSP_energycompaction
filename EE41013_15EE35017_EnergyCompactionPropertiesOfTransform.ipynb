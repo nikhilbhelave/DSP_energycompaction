{
 "cells": [
  {
   "cell_type": "code",
   "execution_count": 15,
   "metadata": {},
   "outputs": [],
   "source": [
    "import numpy as np\n",
    "import matplotlib.pyplot as plt\n",
    "import math\n",
    "import cmath\n",
    "import random"
   ]
  },
  {
   "cell_type": "code",
   "execution_count": 31,
   "metadata": {},
   "outputs": [
    {
     "name": "stdout",
     "output_type": "stream",
     "text": [
      "\n",
      "X:  [30 48 32 25 40  8 52 11  5 57 50 53  7 47  1 58 34 49  6 18  0 64 63 51\n",
      " 13 29 23 46 38  2 24 43 55 59 17 20 31 27 45  4 60 12 14 62 66 16 54 65\n",
      " 35 19  9 39 44 26  3 37 15 22 42 36 41 69 56 67]\n"
     ]
    }
   ],
   "source": [
    "X = np.array(random.sample(range(70),64)) #creating random 64 samples for range between 0 to 70\n",
    "print(\"\\nX: \", X)"
   ]
  },
  {
   "cell_type": "code",
   "execution_count": 32,
   "metadata": {},
   "outputs": [],
   "source": [
    "def dft(x): #calculating dft for x\n",
    "    N = len(x)\n",
    "    D = np.ones((N,N),dtype = complex)\n",
    "    for i in range(1,N):\n",
    "        for k in range(1,N):\n",
    "            D[i][k] = np.exp(-2j*(np.pi*i*k)/N)\n",
    "\n",
    "    y = np.matmul(D,np.transpose(x))\n",
    "    return np.transpose(y)"
   ]
  },
  {
   "cell_type": "code",
   "execution_count": 33,
   "metadata": {},
   "outputs": [],
   "source": [
    "def idft(y): #calculating idft for x\n",
    "    N = len(y)\n",
    "    D = np.ones((N,N),dtype = complex)\n",
    "    for i in range(1,N):\n",
    "        for k in range(1,N):\n",
    "            D[i][k] = np.exp(2j*(np.pi*i*k)/N)\n",
    "\n",
    "    z = np.matmul(D/N,np.transpose(y))\n",
    "    return np.transpose(z)"
   ]
  },
  {
   "cell_type": "code",
   "execution_count": 34,
   "metadata": {},
   "outputs": [],
   "source": [
    "def Edft(x,L): #calculating error dft for x\n",
    "    y = dft(x)\n",
    "    N = len(y)\n",
    "    a = int((N+1-L)/2)\n",
    "    b = int((N-1+L)/2)\n",
    "    for i in range(a,b+1):\n",
    "        y[i] = 0\n",
    "    x_m = idft(y)\n",
    "\n",
    "    return ((x - x_m) ** 2).mean(axis=0)"
   ]
  },
  {
   "cell_type": "code",
   "execution_count": 35,
   "metadata": {},
   "outputs": [],
   "source": [
    "def dct(x): #calculating dct for x\n",
    "    N  = len(x)\n",
    "    Y = np.array([0.]*N)\n",
    "    for k in range(N):\n",
    "        for i in range(N):\n",
    "            Y[k] += 2.0*x[i]*math.cos(math.pi*k*(2.0*i+1)/(2.0*N))\n",
    "    return Y"
   ]
  },
  {
   "cell_type": "code",
   "execution_count": 36,
   "metadata": {},
   "outputs": [],
   "source": [
    "def idct(y): #calculating idct for x\n",
    "    N  = len(y)\n",
    "    Y = np.array([0.]*N)\n",
    "    for i in range(N):\n",
    "        for k in range(N):\n",
    "            if k == 0:\n",
    "                CONST = 0.5\n",
    "            else:\n",
    "                CONST = 1    \n",
    "            Y[i] += CONST*y[k]*math.cos(math.pi*k*(2*i+1)/(2*N))\n",
    "    return Y/N"
   ]
  },
  {
   "cell_type": "code",
   "execution_count": 37,
   "metadata": {},
   "outputs": [],
   "source": [
    "def Edct(x,L): #calculating error dct for x\n",
    "    y = dct(x)\n",
    "    N = len(y)\n",
    "    for i in range(N-L,N):\n",
    "        y[i] = 0\n",
    "    x_m = idct(y)\n",
    "\n",
    "    return ((x - x_m) ** 2).mean(axis=0)"
   ]
  },
  {
   "cell_type": "code",
   "execution_count": 38,
   "metadata": {},
   "outputs": [],
   "source": [
    "h2 = np.array([[1,1],[1,-1]])/math.sqrt(2) #calculating haar transform for x\n",
    "def haar_mat(n):\n",
    "    n = int(n)\n",
    "    if n == 1:\n",
    "        return h2\n",
    "    else:\n",
    "        a = np.kron(haar_mat(n-1),[1,1])\n",
    "        b = np.kron(np.identity(int(math.pow(2,n-1)))*math.pow(2,(n-1)/2.0),[1,-1])\n",
    "        #print(np.concatenate((a,b),axis=0))\n",
    "        return np.concatenate((a,b),axis=0)/math.sqrt(2)\n",
    "\n",
    "def haar(x):\n",
    "    return np.matmul(haar_mat(math.log(len(x),2)),np.transpose(x))"
   ]
  },
  {
   "cell_type": "code",
   "execution_count": 39,
   "metadata": {},
   "outputs": [],
   "source": [
    "def ihaar(y): #calculating inverse haar for x\n",
    "    n = int(math.log(len(y),2))\n",
    "    N = len(y)\n",
    "    hn = haar_mat(n)\n",
    "    return np.matmul(np.transpose(hn)/N,np.transpose(y))"
   ]
  },
  {
   "cell_type": "code",
   "execution_count": 40,
   "metadata": {},
   "outputs": [],
   "source": [
    "def Ehaar(x,L): #calculating error for haar transform\n",
    "    y = haar(x)\n",
    "    N = len(y)\n",
    "    for i in range(N-L,N):\n",
    "        y[i] = 0\n",
    "    x_m = ihaar(y)\n",
    "\n",
    "    return ((x - x_m) ** 2).mean(axis=0)"
   ]
  },
  {
   "cell_type": "code",
   "execution_count": 41,
   "metadata": {},
   "outputs": [
    {
     "name": "stderr",
     "output_type": "stream",
     "text": [
      "C:\\Users\\Nikhil Bhelave\\Anaconda3\\lib\\site-packages\\numpy\\core\\numeric.py:501: ComplexWarning: Casting complex values to real discards the imaginary part\n",
      "  return array(a, dtype, copy=False, order=order)\n"
     ]
    },
    {
     "data": {
      "image/png": "[encoded data removed]",
      "text/plain": [
       "<Figure size 432x288 with 1 Axes>"
      ]
     },
     "metadata": {
      "needs_background": "light"
     },
     "output_type": "display_data"
    }
   ],
   "source": [
    "plt.figure()\n",
    "ydft = [0.]*64\n",
    "ydct = [0.]*64\n",
    "yhaar = [0.]*64\n",
    "for L in range(64):\n",
    "    ydft[L] = Edft(X,L)\n",
    "    ydct[L] = Edct(X,L)\n",
    "    yhaar[L] = Ehaar(X,L) \n",
    "plt.title('Energy Compaction Plots')\n",
    "plt.plot(range(64),ydft,'--b',label = \"dft\")\n",
    "plt.plot(range(64),ydct,'-r',label = 'dct')\n",
    "plt.plot(range(64),yhaar,'-g',label = 'haar')\n",
    "plt.legend(loc='upper left')    \n",
    "plt.xlabel(\"L\")\n",
    "plt.ylabel(\"E(L)\")\n",
    "plt.show()"
   ]
  }
 ],
 "metadata": {
  "kernelspec": {
   "display_name": "Python 3",
   "language": "python",
   "name": "python3"
  },
  "language_info": {
   "codemirror_mode": {
    "name": "ipython",
    "version": 3
   },
   "file_extension": ".py",
   "mimetype": "text/x-python",
   "name": "python",
   "nbconvert_exporter": "python",
   "pygments_lexer": "ipython3",
   "version": "3.7.0"
  }
 },
 "nbformat": 4,
 "nbformat_minor": 2
}
